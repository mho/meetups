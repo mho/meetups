{
 "cells": [
  {
   "cell_type": "code",
   "execution_count": null,
   "metadata": {
    "collapsed": false
   },
   "outputs": [],
   "source": [
    "from bs4 import BeautifulSoup\n",
    "import requests\n",
    "from HTMLParser import HTMLParser\n",
    "\n",
    "class MLStripper(HTMLParser):\n",
    "    def __init__(self):\n",
    "        self.reset()\n",
    "        self.fed = []\n",
    "    def handle_data(self, d):\n",
    "        self.fed.append(d)\n",
    "    def get_data(self):\n",
    "        return ''.join(self.fed)\n",
    "\n",
    "def strip_tags(html):\n",
    "    s = MLStripper()\n",
    "    s.feed(html)\n",
    "    return s.get_data()\n",
    "\n",
    "source = requests.get('http://www.oozo.nl/hulpdiensten/nijmegen')\n",
    "soup = BeautifulSoup(source.content, \"html.parser\")\n",
    "for i in soup.findAll('div', {\"class\":\"col-xs-9\"}):\n",
    "    b = i.findAll('span', {\"class\":\"beschrijving\"})\n",
    "    t = strip_tags(b[0].text)\n",
    "    print t + \",\"\n",
    "    for p in i.findAll('div', {\"class\":\"lokatiebuttons\"}):\n",
    "        for s in p.findAll('span'):\n",
    "            print s.text + \",\"\n",
    "        break"
   ]
  }
 ],
 "metadata": {
  "kernelspec": {
   "display_name": "Python 2",
   "language": "python",
   "name": "python2"
  },
  "language_info": {
   "codemirror_mode": {
    "name": "ipython",
    "version": 2
   },
   "file_extension": ".py",
   "mimetype": "text/x-python",
   "name": "python",
   "nbconvert_exporter": "python",
   "pygments_lexer": "ipython2",
   "version": "2.7.10"
  }
 },
 "nbformat": 4,
 "nbformat_minor": 0
}

{
 "cells": [
  {
   "cell_type": "code",
   "execution_count": null,
   "metadata": {
    "collapsed": false
   },
   "outputs": [],
   "source": [
    "import pandas as pd\n",
    "import geopandas as gpd\n",
    "import matplotlib.pyplot as plt\n",
    "from ipywidgets.widgets import interact\n",
    "from IPython.display import display\n",
    "\n",
    "%matplotlib notebook"
   ]
  },
  {
   "cell_type": "code",
   "execution_count": null,
   "metadata": {
    "collapsed": true
   },
   "outputs": [],
   "source": [
    "columns = [\n",
    "    \"Regiocode\",\n",
    "    \"Regionaam\",\n",
    "    \"Inwoners\",\n",
    "    \"Vermogen, vernieling en geweld\",\n",
    "    \"Vermogensmisdrijven\",\n",
    "    \"Diefstal\",\n",
    "    \"Fietsendiefstal\",\n",
    "    \"Diefstal overige vervoersmiddelen\",\n",
    "    \"Diefstal uit of vanaf vervoermiddelen\",\n",
    "    \"Zakkenrollerij, straatroof en beroving\",\n",
    "    \"Woninginbraak (incl schuur, garage(box) en tuinhuis)\",\n",
    "    \"Diefstal/inbraak uit niet-residentiele gebouwen\",\n",
    "    \"Overige diefstal/inbraak\",\n",
    "    \"Overige vermogensmisdrijven\",\n",
    "    \"Vernielingen en misdrijven tegen openbare orde en gezag\",\n",
    "    \"Vernielingen\",\n",
    "    \"Vernieling aan auto\",\n",
    "    \"Overige vernieling\",\n",
    "    \"Misdrijven tegen openbare orde en gezag\",\n",
    "    \"Gewelds- en seksuele misdrijven\",\n",
    "    \"Mishandeling\",\n",
    "    \"Bedreiging en stalking\",\n",
    "    \"Overige gewelds- en seksuele misdrijven\",\n",
    "    \"Totaal vermogen, vernieling en geweld (rel)\",\n",
    "    \"Vermogensmisdrijven (rel)\",\n",
    "    \"Diefstal/inbraak woning (rel)\",\n",
    "    \"Vernieling en openbare orde (rel)\",\n",
    "    \"Gewelds- en seksuele misdrijven (rel)\"\n",
    "    ]"
   ]
  },
  {
   "cell_type": "code",
   "execution_count": null,
   "metadata": {
    "collapsed": true
   },
   "outputs": [],
   "source": [
    "cbs_crime = (\n",
    "#    \"https://www.cbs.nl/-/media/_excel/2016/45/\"\n",
    "    \"Geregistreerde-criminaliteit-per-gemeente-wijk-en-buurt-2010-2015.xlsx\"\n",
    ")"
   ]
  },
  {
   "cell_type": "code",
   "execution_count": null,
   "metadata": {
    "collapsed": false
   },
   "outputs": [],
   "source": [
    "def read_gemeente(shape_file, gemeente):\n",
    "    df = gpd.read_file(shape_file)\n",
    "    df = df[df['GM_NAAM'] == gemeente]\n",
    "    df = df.where(df > -9999999., gpd.np.NaN)\n",
    "    df['coords'] = df['geometry'].apply(\n",
    "        lambda x: x.representative_point().coords[:][0])\n",
    "    df['Regiocode'] = df['BU_CODE']\n",
    "    df.set_index(['GM_CODE', 'WK_CODE', 'BU_CODE'], inplace=True)\n",
    "    return df\n",
    "\n",
    "\n",
    "def mk_feature_plot(dframe, **kwargs):\n",
    "    new_kwargs = dict(\n",
    "        cmap='OrRd',\n",
    "        linewidth=0.2,\n",
    "        label=False\n",
    "    )\n",
    "    new_kwargs.update(kwargs)\n",
    "\n",
    "    def do_plot(feature):\n",
    "        ax = dframe.plot(column=feature, **new_kwargs)\n",
    "        ax.set_xticks([])\n",
    "        ax.set_yticks([])\n",
    "\n",
    "        if new_kwargs['label']:\n",
    "            for idx, row in dframe.iterrows():\n",
    "                plt.annotate(s=row[feature], xy=row['coords'],\n",
    "                             horizontalalignment='center', fontsize=6)\n",
    "    return do_plot\n",
    "\n",
    "def read_crime(year):\n",
    "    sheetnames = {\n",
    "        2010:'Tabel 1',\n",
    "        2011:'Tabel 2',\n",
    "        2012:'Tabel 3',\n",
    "        2013:'Tabel 4',\n",
    "        2014:'Tabel 5',\n",
    "        2015:'Tabel 6'\n",
    "        }\n",
    "    try:\n",
    "        sheet = sheetnames[int(year)]\n",
    "    except KeyError:\n",
    "        raise Exception(\"No crime data for the year {} available\".format(year))\n",
    "        \n",
    "    crime_df = pd.read_excel(cbs_crime, sheetname=sheet,\n",
    "        header=None, names=columns, skiprows=6, na_values=\".\")\n",
    "    # crime_df.fillna(0, inplace=True)\n",
    "    return crime_df"
   ]
  },
  {
   "cell_type": "code",
   "execution_count": null,
   "metadata": {
    "collapsed": true
   },
   "outputs": [],
   "source": [
    "nijmegen = read_gemeente('buurten', 'Nijmegen')"
   ]
  },
  {
   "cell_type": "code",
   "execution_count": null,
   "metadata": {
    "collapsed": false
   },
   "outputs": [],
   "source": [
    "crime_2015 = read_crime(2015)"
   ]
  },
  {
   "cell_type": "code",
   "execution_count": null,
   "metadata": {
    "collapsed": true
   },
   "outputs": [],
   "source": [
    "nijmegen_crime_2015 = nijmegen.merge(crime_2015, on='Regiocode')"
   ]
  },
  {
   "cell_type": "code",
   "execution_count": null,
   "metadata": {
    "collapsed": false,
    "scrolled": false
   },
   "outputs": [],
   "source": [
    "interact(\n",
    "    mk_feature_plot(nijmegen_crime_2015, alpha=0.7,\n",
    "                    label=True, cmap='seismic'),\n",
    "    feature=list(nijmegen_crime_2015.columns))"
   ]
  },
  {
   "cell_type": "code",
   "execution_count": null,
   "metadata": {
    "collapsed": true
   },
   "outputs": [],
   "source": [
    "amsterdam = read_gemeente('buurten', 'Amsterdam')"
   ]
  },
  {
   "cell_type": "code",
   "execution_count": null,
   "metadata": {
    "collapsed": true
   },
   "outputs": [],
   "source": [
    "amsterdam_crime_2015 = amsterdam.merge(crime_2015, on='Regiocode')"
   ]
  },
  {
   "cell_type": "code",
   "execution_count": null,
   "metadata": {
    "collapsed": false
   },
   "outputs": [],
   "source": [
    "interact(mk_feature_plot(amsterdam_crime_2015, label=True,\n",
    "                         alpha=0.7, cmap='seismic'),\n",
    "        feature=list(amsterdam_crime_2015.columns));"
   ]
  },
  {
   "cell_type": "code",
   "execution_count": null,
   "metadata": {
    "collapsed": true
   },
   "outputs": [],
   "source": [
    "\n"
   ]
  }
 ],
 "metadata": {
  "anaconda-cloud": {},
  "kernelspec": {
   "display_name": "Python [default]",
   "language": "python",
   "name": "python3"
  },
  "language_info": {
   "codemirror_mode": {
    "name": "ipython",
    "version": 3
   },
   "file_extension": ".py",
   "mimetype": "text/x-python",
   "name": "python",
   "nbconvert_exporter": "python",
   "pygments_lexer": "ipython3",
   "version": "3.5.2"
  }
 },
 "nbformat": 4,
 "nbformat_minor": 1
}
